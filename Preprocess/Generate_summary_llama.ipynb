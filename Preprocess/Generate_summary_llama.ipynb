{
 "cells": [
  {
   "cell_type": "code",
   "execution_count": null,
   "metadata": {},
   "outputs": [
    {
     "name": "stdout",
     "output_type": "stream",
     "text": [
      "Collecting ollama\n",
      "  Downloading ollama-0.4.7-py3-none-any.whl.metadata (4.7 kB)\n",
      "Requirement already satisfied: httpx<0.29,>=0.27 in /home/jags/miniconda3/envs/unsloth_env/lib/python3.11/site-packages (from ollama) (0.28.1)\n",
      "Requirement already satisfied: pydantic<3.0.0,>=2.9.0 in /home/jags/miniconda3/envs/unsloth_env/lib/python3.11/site-packages (from ollama) (2.10.6)\n",
      "Requirement already satisfied: anyio in /home/jags/miniconda3/envs/unsloth_env/lib/python3.11/site-packages (from httpx<0.29,>=0.27->ollama) (4.8.0)\n",
      "Requirement already satisfied: certifi in /home/jags/miniconda3/envs/unsloth_env/lib/python3.11/site-packages (from httpx<0.29,>=0.27->ollama) (2025.1.31)\n",
      "Requirement already satisfied: httpcore==1.* in /home/jags/miniconda3/envs/unsloth_env/lib/python3.11/site-packages (from httpx<0.29,>=0.27->ollama) (1.0.7)\n",
      "Requirement already satisfied: idna in /home/jags/miniconda3/envs/unsloth_env/lib/python3.11/site-packages (from httpx<0.29,>=0.27->ollama) (3.10)\n",
      "Requirement already satisfied: h11<0.15,>=0.13 in /home/jags/miniconda3/envs/unsloth_env/lib/python3.11/site-packages (from httpcore==1.*->httpx<0.29,>=0.27->ollama) (0.14.0)\n",
      "Requirement already satisfied: annotated-types>=0.6.0 in /home/jags/miniconda3/envs/unsloth_env/lib/python3.11/site-packages (from pydantic<3.0.0,>=2.9.0->ollama) (0.7.0)\n",
      "Requirement already satisfied: pydantic-core==2.27.2 in /home/jags/miniconda3/envs/unsloth_env/lib/python3.11/site-packages (from pydantic<3.0.0,>=2.9.0->ollama) (2.27.2)\n",
      "Requirement already satisfied: typing-extensions>=4.12.2 in /home/jags/miniconda3/envs/unsloth_env/lib/python3.11/site-packages (from pydantic<3.0.0,>=2.9.0->ollama) (4.12.2)\n",
      "Requirement already satisfied: sniffio>=1.1 in /home/jags/miniconda3/envs/unsloth_env/lib/python3.11/site-packages (from anyio->httpx<0.29,>=0.27->ollama) (1.3.1)\n",
      "Downloading ollama-0.4.7-py3-none-any.whl (13 kB)\n",
      "Installing collected packages: ollama\n",
      "Successfully installed ollama-0.4.7\n"
     ]
    }
   ],
   "source": [
    "!pip install ollama"
   ]
  },
  {
   "cell_type": "code",
   "execution_count": null,
   "metadata": {},
   "outputs": [
    {
     "name": "stdout",
     "output_type": "stream",
     "text": [
      "Columns in the dataset: ['bug_id', 'raw_text', 'Steps_to_Reproduce', 'Actual_Results', 'Expected_Results', 'Masked_S2R_Version', 'Masked_Actual_Version', 'Masked_Expected_Version']\n",
      "Updated file saved to summary-masked_REPORTs_Processed_Bug_Reports.xlsx\n"
     ]
    }
   ],
   "source": [
    "import pandas as pd\n",
    "import ollama\n",
    "\n",
    "# Define a function to generate summaries using Ollama based on the content type\n",
    "def generate_summary(text, summary_type):\n",
    "    \"\"\"Generate a casual summary for a specific part of a bug report.\"\"\"\n",
    "    if summary_type == 'S2R':\n",
    "        prompt = f'''Please rewrite the following bug report in a natural, conversational tone, as if you're explaining it to\n",
    "     someone casually. Keep the essence of the report intact, but restructure it in a way that sounds like something an average person would write, while still using the original wording from the report as much as possible. Focus on maintaining the original details and key points dont change much. Provide only the one rewritten paragraph with everything, no additional explanation. Bug report: {text}'''\n",
    "    elif summary_type == 'Actual':\n",
    "        prompt = f'''Please rewrite the following bug report in a natural, conversational tone, as if you're explaining it to\n",
    "     someone casually. Keep the essence of the report intact, but restructure it in a way that sounds like something an average person would write, while still using the original wording from the report as much as possible. Focus on maintaining the original details and key points dont change much. Provide only the one rewritten paragraph with everything, no additional explanation. Bug report: {text}'''\n",
    "\n",
    "    elif summary_type == 'Expected':\n",
    "        prompt = f'''Please rewrite the following bug report in a natural, conversational tone, as if you're explaining it to\n",
    "     someone casually. Keep the essence of the report intact, but restructure it in a way that sounds like something an average person would write, while still using the original wording from the report as much as possible. Focus on maintaining the original details and key points dont change much. Provide only the one rewritten paragraph with everything, no additional explanation. Bug report: {text}'''\n",
    "    \n",
    "    \n",
    "    else:\n",
    "        raise ValueError(\"Invalid summary type\")\n",
    "    \n",
    "    response = ollama.chat(\n",
    "        model=\"llama3\",\n",
    "        messages=[\n",
    "            {\"role\": \"user\", \"content\": prompt},\n",
    "        ],\n",
    "    )\n",
    "    return response[\"message\"][\"content\"]\n",
    "\n",
    "# Read the Excel file into a DataFrame\n",
    "file_path = 'mASKED_REPORTs_Processed_Bug_Reports.xlsx'\n",
    "data = pd.read_excel(file_path)\n",
    "print(\"Columns in the dataset:\", data.columns.tolist())\n",
    "\n",
    "# Check if the required columns are present\n",
    "required_columns = ['Masked_S2R_Version', 'Masked_Actual_Version', 'Masked_Expected_Version']\n",
    "missing_columns = [col for col in required_columns if col not in data.columns]\n",
    "if missing_columns:\n",
    "    print(f\"Error: The following required columns are missing: {missing_columns}\")\n",
    "    # Optionally, exit or handle the error here\n",
    "else:\n",
    "    # Process a subset of the data (adjust as needed)\n",
    "    data = data# Starting from row 2929, as in the original code\n",
    "\n",
    "    # Generate summaries for each column, handling NaN values\n",
    "    data['Summary_S2R'] = data['Masked_S2R_Version'].apply(\n",
    "        lambda x: generate_summary(x, 'S2R') if pd.notna(x) else ''\n",
    "    )\n",
    "    data['Summary_Actual'] = data['Masked_Actual_Version'].apply(\n",
    "        lambda x: generate_summary(x, 'Actual') if pd.notna(x) else ''\n",
    "    )\n",
    "    data['Summary_Expected'] = data['Masked_Expected_Version'].apply(\n",
    "        lambda x: generate_summary(x, 'Expected') if pd.notna(x) else ''\n",
    "    )\n",
    "\n",
    "    # Save the updated DataFrame to a new Excel file\n",
    "    output_file_path = 'summary-masked_REPORTs_Processed_Bug_Reports.xlsx'\n",
    "    data.to_excel(output_file_path, index=False)\n",
    "    print(f'Updated file saved to {output_file_path}')"
   ]
  },
  {
   "cell_type": "code",
   "execution_count": 4,
   "metadata": {},
   "outputs": [
    {
     "name": "stdout",
     "output_type": "stream",
     "text": [
      "Index(['text', 'user_behviou', 'total_score', 'max_possible',\n",
      "       'score_percentage', 'RM1_size_passed', 'RM1_size_score',\n",
      "       'RM2_readability_passed', 'RM2_readability_score',\n",
      "       'RM3_punctuation_passed', 'RM3_punctuation_score',\n",
      "       'RM4_sentence_length_passed', 'RM4_sentence_length_score',\n",
      "       'RR1_itemization_passed', 'RR1_itemization_score',\n",
      "       'RR2_itemization_symbol_passed', 'RR2_itemization_symbol_score',\n",
      "       'RR3_environment_passed', 'RR3_environment_score',\n",
      "       'RR4_screenshot_passed', 'RR4_screenshot_score',\n",
      "       'RR5_screenshot_guideline_passed', 'RR5_screenshot_guideline_score',\n",
      "       'RA1_interface_element_passed', 'RA1_interface_element_score',\n",
      "       'RA2_user_behavior_passed', 'RA2_user_behavior_score',\n",
      "       'RA3_system_defect_passed', 'RA3_system_defect_score',\n",
      "       'RA4_defect_description_passed', 'RA4_defect_description_score'],\n",
      "      dtype='object')\n",
      "Updated file saved to Plus14_filtered_bug_report_scores_Summary.xlsx\n"
     ]
    }
   ],
   "source": [
    "import pandas as pd\n",
    "import ollama \n",
    "\n",
    "# Define a function to use the model for extracting interface elements\n",
    "def extract_steps_using_ollama(text):\n",
    "    prompt = f'''Please rewrite the following bug report in a natural, conversational tone, as if you're explaining it to\n",
    "     someone casually. Keep the essence of the report intact, but restructure it in a way that sounds like something an average person would write, while still using the original wording from the report as much as possible. Focus on maintaining the original details and key points dont change much. Provide only the one rewritten paragraph with everything, no additional explanation. Bug report: {text}'''\n",
    "    \n",
    "    response = ollama.chat(\n",
    "        model=\"llama3\",\n",
    "        messages=[\n",
    "            {\"role\": \"user\", \"content\": prompt},\n",
    "        ],\n",
    "    )\n",
    "    return response[\"message\"][\"content\"]\n",
    "\n",
    "# Read the Excel file into a DataFrame\n",
    "file_path = 'Plus14_filtered_bug_report_scores.xlsx'\n",
    "data = pd.read_excel(file_path)\n",
    "print(data.columns)\n",
    "# data = data[2929:]  # Limit to first 10 rows for processing\n",
    "\n",
    "# Keep only 'text' and 'Interactive_elem' columns\n",
    "if 'text' in data.columns:\n",
    "    data['NEW_llama_output'] = data['text'].apply(extract_steps_using_ollama)\n",
    "else:\n",
    "    print(\"Error: Column 'Actual Report' not found in the dataset.\")\n",
    "\n",
    "# Save the updated DataFrame to a new Excel file\n",
    "output_file_path = 'Plus14_filtered_bug_report_scores_Summary.xlsx'\n",
    "data.to_excel(output_file_path, index=False)\n",
    "\n",
    "print(f'Updated file saved to {output_file_path}')\n"
   ]
  },
  {
   "cell_type": "code",
   "execution_count": null,
   "metadata": {},
   "outputs": [],
   "source": []
  }
 ],
 "metadata": {
  "kernelspec": {
   "display_name": "unsloth_env",
   "language": "python",
   "name": "python3"
  },
  "language_info": {
   "codemirror_mode": {
    "name": "ipython",
    "version": 3
   },
   "file_extension": ".py",
   "mimetype": "text/x-python",
   "name": "python",
   "nbconvert_exporter": "python",
   "pygments_lexer": "ipython3",
   "version": "3.11.11"
  }
 },
 "nbformat": 4,
 "nbformat_minor": 2
}
